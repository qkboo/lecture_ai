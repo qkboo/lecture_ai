{
 "cells": [
  {
   "cell_type": "markdown",
   "metadata": {},
   "source": [
    "# 선형연립방정식\n",
    "\n",
    "\n",
    "$$\n",
    "\\begin{align}\n",
    "\\begin{matrix}\n",
    "x_1 & + & x_2 &   &     & = & 2  \\\\\n",
    "    &   & x_2 & + & x_3 & = & 2  \\\\\n",
    "x_1 & + & x_2 & + & x_3 & = & 3  \\\\\n",
    "\\end{matrix}\n",
    "\\tag{2.4.1}\n",
    "\\end{align}\n",
    "$$\n",
    "\n",
    "\n",
    "**계수행렬(coefficient matrix), 미지수벡터(unknown vector), 상수벡터(constant vector)**"
   ]
  },
  {
   "cell_type": "markdown",
   "metadata": {},
   "source": [
    "\n",
    "$$\n",
    "\\begin{align}\n",
    "A = \n",
    "\\begin{bmatrix}\n",
    " 1 & 1 & 0 \\\\\n",
    " 0 & 1 & 1 \\\\\n",
    " 1 & 1 & 1 \\\\\n",
    "\\end{bmatrix}, \\;\\;\\;\n",
    "x = \\begin{bmatrix}\n",
    "x_1 \\\\ x_2 \\\\ x_3\n",
    "\\end{bmatrix}, \\;\\;\\;\n",
    "b = \\begin{bmatrix}\n",
    "2 \\\\ 2 \\\\ 3\n",
    "\\end{bmatrix}\n",
    "\\tag{2.4.7}\n",
    "\\end{align}\n",
    "$$\n"
   ]
  },
  {
   "cell_type": "code",
   "execution_count": null,
   "metadata": {},
   "outputs": [],
   "source": []
  },
  {
   "cell_type": "markdown",
   "metadata": {},
   "source": [
    "## 역행렬\n",
    "\n",
    "\n",
    "$$\n",
    "A = \\begin{pmatrix} a_{11} & a_{12} \\\\\n",
    "a_{21} & a_{22} \\end{pmatrix} 일 때\\\\\n",
    "\\\\\n",
    "A^{-1} = \\frac{1}{a_{11}a_{22}-a_{12}a_{21}}\n",
    "\\begin{pmatrix} a_{22} & -a_{12} \\\\\n",
    "-a_{21} & a_{11} \\end{pmatrix}\n",
    "$$\n",
    "\n",
    "역행렬 구할 때는 $a_{11}a_{22}-a_{12}a_{21}\\ne0$ 인지 여부를 확인해야 한다."
   ]
  },
  {
   "cell_type": "code",
   "execution_count": 2,
   "metadata": {},
   "outputs": [],
   "source": [
    "import numpy as np"
   ]
  },
  {
   "cell_type": "code",
   "execution_count": 3,
   "metadata": {},
   "outputs": [
    {
     "data": {
      "text/plain": [
       "array([[5, 3],\n",
       "       [2, 1]])"
      ]
     },
     "execution_count": 3,
     "metadata": {},
     "output_type": "execute_result"
    }
   ],
   "source": [
    "A = np.array([[5,3],[2,1]])\n",
    "A"
   ]
  },
  {
   "cell_type": "code",
   "execution_count": 7,
   "metadata": {},
   "outputs": [
    {
     "data": {
      "text/plain": [
       "-1.0000000000000002"
      ]
     },
     "execution_count": 7,
     "metadata": {},
     "output_type": "execute_result"
    }
   ],
   "source": [
    "np.linalg.det(A)"
   ]
  },
  {
   "cell_type": "code",
   "execution_count": 9,
   "metadata": {},
   "outputs": [
    {
     "data": {
      "text/plain": [
       "array([[-1.,  3.],\n",
       "       [ 2., -5.]])"
      ]
     },
     "execution_count": 9,
     "metadata": {},
     "output_type": "execute_result"
    }
   ],
   "source": [
    "A_ = np.linalg.inv(A)\n",
    "A_"
   ]
  },
  {
   "cell_type": "code",
   "execution_count": 11,
   "metadata": {},
   "outputs": [
    {
     "data": {
      "text/plain": [
       "array([[1, 0],\n",
       "       [0, 1]], dtype=int16)"
      ]
     },
     "execution_count": 11,
     "metadata": {},
     "output_type": "execute_result"
    }
   ],
   "source": [
    "(A @ A_).astype(np.int16)"
   ]
  },
  {
   "cell_type": "markdown",
   "metadata": {},
   "source": []
  },
  {
   "cell_type": "code",
   "execution_count": 12,
   "metadata": {},
   "outputs": [],
   "source": [
    "A = np.array([[1, 1, 0], [0, 1, 1], [1, 1, 1]])"
   ]
  },
  {
   "cell_type": "code",
   "execution_count": 13,
   "metadata": {},
   "outputs": [
    {
     "data": {
      "text/plain": [
       "1.0"
      ]
     },
     "execution_count": 13,
     "metadata": {},
     "output_type": "execute_result"
    }
   ],
   "source": [
    "np.linalg.det(A)"
   ]
  },
  {
   "cell_type": "code",
   "execution_count": 14,
   "metadata": {},
   "outputs": [
    {
     "data": {
      "text/plain": [
       "array([[ 0., -1.,  1.],\n",
       "       [ 1.,  1., -1.],\n",
       "       [-1.,  0.,  1.]])"
      ]
     },
     "execution_count": 14,
     "metadata": {},
     "output_type": "execute_result"
    }
   ],
   "source": [
    "A_ = np.linalg.inv(A)\n",
    "A_"
   ]
  },
  {
   "cell_type": "code",
   "execution_count": 15,
   "metadata": {},
   "outputs": [
    {
     "data": {
      "text/plain": [
       "array([[1., 0., 0.],\n",
       "       [0., 1., 0.],\n",
       "       [0., 0., 1.]])"
      ]
     },
     "execution_count": 15,
     "metadata": {},
     "output_type": "execute_result"
    }
   ],
   "source": [
    "A @ A_"
   ]
  },
  {
   "cell_type": "markdown",
   "metadata": {},
   "source": [
    "### 역행렬과 선형연립방정식 해\n",
    "\n",
    "역행렬과 연립방정식\n",
    "\n",
    "역행렬을 사용하면 **연립방정식**을 풀수 있다. \n",
    " - 역행렬 이용\n",
    " - SymPy 이용\n",
    "\n",
    "프로그래밍 언어에서 연립방정식을 직접 풀어야 하는데 이때 **역행렬**이 큰 역할을 한다.\n",
    "\n",
    "아래 같은 연립방정식이 있다.\n",
    "\n",
    "$$\n",
    "5x + 3y = 9\\\\\n",
    "2x + y = 4\n",
    "$$\n",
    "\n",
    "방정식을 행렬로 표현하면 \n",
    "\n",
    "$$\n",
    "\\begin{pmatrix}5 & 3 \\\\ 2 & 1 \\end{pmatrix}\n",
    "\\begin{pmatrix}x \\\\y \\end{pmatrix} = \n",
    "\\begin{pmatrix}9 \\\\4 \\end{pmatrix}\n",
    "$$\n"
   ]
  },
  {
   "cell_type": "markdown",
   "metadata": {},
   "source": [
    "\n",
    "연립방정식을 행렬을 이용해 풀기위해서 행렬의 다음 두 특성이 중요하다.\n",
    "\n",
    " - 행렬과 역행렬을 곱하면 단위행렬이 된다.\n",
    " - 어떤 행렬을 단위행렬에 곱한 결과는 원래 행렬이다."
   ]
  },
  {
   "cell_type": "markdown",
   "metadata": {},
   "source": [
    "행렬 $\\begin{pmatrix}5 & 3 \\\\ 2 & 1 \\end{pmatrix}$ 의 역행렬을 양변에 곱하면\n",
    "\n",
    "$$\n",
    "\\begin{pmatrix}-1 & 3 \\\\ 2 & -5 \\end{pmatrix}\n",
    "\\begin{pmatrix}5 & 3 \\\\ 2 & 1 \\end{pmatrix}\n",
    "\\begin{pmatrix}x \\\\y \\end{pmatrix} = \n",
    "\\begin{pmatrix}-1 & 3 \\\\ 2 & -5 \\end{pmatrix}\n",
    "\\begin{pmatrix}9 \\\\4 \\end{pmatrix}\n",
    "$$\n",
    "\n",
    "이 식을 정리하면\n",
    "\n",
    "$$\n",
    "\\begin{pmatrix}1 & 0 \\\\ 0 & 1 \\end{pmatrix}\n",
    "\\begin{pmatrix}x \\\\y \\end{pmatrix} = \n",
    "\\begin{pmatrix}-1 & 3 \\\\ 2 & -5 \\end{pmatrix}\n",
    "\\begin{pmatrix}9 \\\\4 \\end{pmatrix}\n",
    "$$\n",
    "\n",
    "단위행렬은 어떤 행렬을 곱해도 원래 행렬과 같으므로 좌변을 다음 같이 쓸 수 있다.\n",
    "\n",
    "$$\n",
    "\\begin{pmatrix}x \\\\y \\end{pmatrix} = \n",
    "\\begin{pmatrix}-1 & 3 \\\\ 2 & -5 \\end{pmatrix}\n",
    "\\begin{pmatrix}9 \\\\4 \\end{pmatrix}\n",
    "$$\n",
    "\n",
    "이것을 풀면\n",
    "\n",
    "$$\n",
    "\\begin{pmatrix}x \\\\y \\end{pmatrix} = \n",
    "\\begin{pmatrix}-1\\times 9 + 3\\times4 \\\\ 2\\times 9 + -5\\times4 \\end{pmatrix} =\n",
    "\\begin{pmatrix}3 \\\\-2 \\end{pmatrix}\n",
    "$$"
   ]
  },
  {
   "cell_type": "markdown",
   "metadata": {},
   "source": [
    "컴퓨터 프로그래밍으로 이것을 적용하면 **식**에 따라서 계산하는 방법이 달라지므로 프로그래밍으로 구현하기 어렵다. 그러나 행렬을 사용하면 다음 순서로 계산할 수 있다.\n",
    "\n",
    "1. 연립방정식을 행렬로 나타낸다\n",
    "2. 미지의 계수로 만든 행렬의 역행렬을 구한다.\n",
    "3. 구한 역행렬을 1의 식 우변에 곱한다.\n"
   ]
  },
  {
   "cell_type": "code",
   "execution_count": 16,
   "metadata": {},
   "outputs": [],
   "source": [
    "A = np.array([[5,3],[2,1]])\n",
    "B = np.array([[9],[4]])"
   ]
  },
  {
   "cell_type": "code",
   "execution_count": 17,
   "metadata": {},
   "outputs": [
    {
     "data": {
      "text/plain": [
       "-1.0000000000000002"
      ]
     },
     "execution_count": 17,
     "metadata": {},
     "output_type": "execute_result"
    }
   ],
   "source": [
    "np.linalg.det(A)"
   ]
  },
  {
   "cell_type": "code",
   "execution_count": 18,
   "metadata": {},
   "outputs": [
    {
     "data": {
      "text/plain": [
       "array([[-1.,  3.],\n",
       "       [ 2., -5.]])"
      ]
     },
     "execution_count": 18,
     "metadata": {},
     "output_type": "execute_result"
    }
   ],
   "source": [
    "A_ = np.linalg.inv(A)\n",
    "A_"
   ]
  },
  {
   "cell_type": "code",
   "execution_count": 19,
   "metadata": {},
   "outputs": [
    {
     "data": {
      "text/plain": [
       "array([[1.00000000e+00, 1.77635684e-15],\n",
       "       [2.22044605e-16, 1.00000000e+00]])"
      ]
     },
     "execution_count": 19,
     "metadata": {},
     "output_type": "execute_result"
    }
   ],
   "source": [
    "A @ A_"
   ]
  },
  {
   "cell_type": "code",
   "execution_count": 21,
   "metadata": {},
   "outputs": [
    {
     "data": {
      "text/plain": [
       "array([[ 3.],\n",
       "       [-2.]])"
      ]
     },
     "execution_count": 21,
     "metadata": {},
     "output_type": "execute_result"
    }
   ],
   "source": [
    "A_ @ B"
   ]
  },
  {
   "cell_type": "code",
   "execution_count": 25,
   "metadata": {},
   "outputs": [],
   "source": [
    "A = np.matrix([[5,3],[2,1]])\n",
    "B = np.matrix([[9],[4]])"
   ]
  },
  {
   "cell_type": "code",
   "execution_count": 24,
   "metadata": {},
   "outputs": [
    {
     "data": {
      "text/plain": [
       "numpy.matrix"
      ]
     },
     "execution_count": 24,
     "metadata": {},
     "output_type": "execute_result"
    }
   ],
   "source": [
    "type(A)"
   ]
  },
  {
   "cell_type": "code",
   "execution_count": 26,
   "metadata": {},
   "outputs": [],
   "source": [
    "A_ = np.linalg.inv(A)"
   ]
  },
  {
   "cell_type": "code",
   "execution_count": 27,
   "metadata": {},
   "outputs": [
    {
     "data": {
      "text/plain": [
       "matrix([[1.00000000e+00, 0.00000000e+00],\n",
       "        [1.77635684e-15, 1.00000000e+00]])"
      ]
     },
     "execution_count": 27,
     "metadata": {},
     "output_type": "execute_result"
    }
   ],
   "source": [
    "A_ * A"
   ]
  },
  {
   "cell_type": "code",
   "execution_count": 28,
   "metadata": {},
   "outputs": [
    {
     "data": {
      "text/plain": [
       "matrix([[ 3.],\n",
       "        [-2.]])"
      ]
     },
     "execution_count": 28,
     "metadata": {},
     "output_type": "execute_result"
    }
   ],
   "source": [
    "A_ * B"
   ]
  },
  {
   "cell_type": "markdown",
   "metadata": {},
   "source": [
    "sympy"
   ]
  },
  {
   "cell_type": "code",
   "execution_count": 30,
   "metadata": {},
   "outputs": [],
   "source": [
    "from sympy import Symbol, solve\n",
    "\n",
    "x, y = Symbol('x'), Symbol('y')"
   ]
  },
  {
   "cell_type": "code",
   "execution_count": 32,
   "metadata": {},
   "outputs": [
    {
     "data": {
      "text/plain": [
       "(x, y, sympy.core.symbol.Symbol)"
      ]
     },
     "execution_count": 32,
     "metadata": {},
     "output_type": "execute_result"
    }
   ],
   "source": [
    "x, y, type(x)"
   ]
  },
  {
   "cell_type": "code",
   "execution_count": 33,
   "metadata": {},
   "outputs": [],
   "source": [
    "ex1 = 5*x + 3*y - 9\n",
    "ex2 = 2*x + y - 4"
   ]
  },
  {
   "cell_type": "code",
   "execution_count": 36,
   "metadata": {},
   "outputs": [
    {
     "data": {
      "text/plain": [
       "(5*x + 3*y - 9, 2*x + y - 4)"
      ]
     },
     "execution_count": 36,
     "metadata": {},
     "output_type": "execute_result"
    }
   ],
   "source": [
    "ex1, ex2"
   ]
  },
  {
   "cell_type": "code",
   "execution_count": 38,
   "metadata": {},
   "outputs": [
    {
     "data": {
      "text/plain": [
       "{x: 3, y: -2}"
      ]
     },
     "execution_count": 38,
     "metadata": {},
     "output_type": "execute_result"
    }
   ],
   "source": [
    "solve((ex1, ex2))"
   ]
  }
 ],
 "metadata": {
  "kernelspec": {
   "display_name": "Python 3",
   "language": "python",
   "name": "python3"
  },
  "language_info": {
   "codemirror_mode": {
    "name": "ipython",
    "version": 3
   },
   "file_extension": ".py",
   "mimetype": "text/x-python",
   "name": "python",
   "nbconvert_exporter": "python",
   "pygments_lexer": "ipython3",
   "version": "3.8.5"
  }
 },
 "nbformat": 4,
 "nbformat_minor": 4
}
