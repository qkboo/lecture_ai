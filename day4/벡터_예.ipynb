{
 "cells": [
  {
   "cell_type": "markdown",
   "metadata": {},
   "source": [
    "\n",
    "# 04.벡터\n",
    "\n",
    "참고\n",
    " - 파이썬으로 배우는 핵심 고등수학\n",
    " - https://m.blog.naver.com/forfriend5/220599558731\n"
   ]
  },
  {
   "cell_type": "markdown",
   "metadata": {},
   "source": [
    "### 4.1.2 벡터의 성분\n",
    "\n",
    "벡터는 **방향과 크기가 중요하고 위치는 중요하지 않다**. 한 점에서 다른 점의 벡터를 $\\overrightarrow{AB}$ 로 표시한다.\n",
    "\n",
    "그림 같이 방향과 크기가 같고 다른 위치의 벡터를 **위치벡터**라고 한다.\n",
    "\n",
    "<img src='https://mblogthumb-phinf.pstatic.net/20160116_152/forfriend5_1452944236142GI7mb_PNG/%C1%A6%B8%F1_%BE%F8%C0%BD4_%BA%B9%BB%E7.png?type=w2' width='400'>"
   ]
  },
  {
   "cell_type": "markdown",
   "metadata": {},
   "source": [
    "벡터의 시작점을 좌표축의 원점으로 이동하면 $\\overrightarrow{OC}$ 는 끝점의 좌표를 사용하여 다음과 같이 나타낼 수 있다.\n",
    "\n",
    "$$\n",
    "\\overrightarrow{OC} = (2,3)\n",
    "$$\n",
    "\n",
    "이것을 벡터의 성분 표시 (혹은 요소 표시)라고 하며 x의 값을 x 성분, y 값을 y 성분이라고 한다.성분을 세로로 나열해서 아래 같이 쓰기도 한다.\n",
    "\n",
    "$$\n",
    "\\overrightarrow{OC} = {2 \\choose 3}\n",
    "$$\n",
    "\n"
   ]
  },
  {
   "cell_type": "markdown",
   "metadata": {},
   "source": [
    "##### 벡터의 성분 구하기\n",
    "\n",
    "벡터의 시작점 A(x,y) 에서 끝점 B(x2,y2) 를 다음 같은 방식으로 구한다.\n",
    "\n",
    "$$\n",
    "\\overrightarrow{AB} = {x_2 - x_1 \\choose y_2 - y_1}\n",
    "$$\n",
    "\n",
    "예를 들어 A(6, 5), B(4,2) 의 벡터는 \n",
    "\n",
    "$$\n",
    "\\overrightarrow{AB} = { 6 - 4 \\choose 5 - 2 } \\\\\n",
    " = { 2 \\choose 3 }\n",
    "$$"
   ]
  },
  {
   "cell_type": "markdown",
   "metadata": {},
   "source": [
    "### 4.1.3 벡터의 방향\n",
    "\n",
    "성분을 표기한 벡터는 부호를 보면 방향을 알 수 있다.\n",
    " - x 성분이 양수면 왼쪽에서 오른쪽\n",
    " - x 성분이 음수면 오른쪽에서 왼쪽\n",
    " - y 성분이 양수면 위로 향하는 벡터\n",
    " - y 성분이 음수면 아래로 향하는 벡터\n",
    " \n",
    "\n",
    "벡터의 끝점에서 x축 방향으로 수선을 내리면 좌표상의 삼각형과 같은 모습이다.\n",
    "\n",
    "<img src='https://t1.daumcdn.net/cfile/tistory/2501E63C5463FE4030' width='350'>"
   ]
  },
  {
   "cell_type": "markdown",
   "metadata": {},
   "source": [
    "벡터 x, y 성분을 알고 있으므로 x축과 벡터가 이루는 각도는 탄젠트의 역함수를 사용해 다음 같이 나타낼 수 있다. ([3.4.4 삼각비와 각도](03_방정식_도형.ipynb#3.4.4-삼각비와-각도))\n",
    "\n",
    "$$\n",
    "\\theta = tan^{-1} \\left( \\frac{y}{x} \\right)\n",
    "$$\n",
    "\n",
    "원점 O(0,0)에서 A(2,3) 까지 벡터 $\\overrightarrow{OA}$ 의 각도를 파이썬으로 다음 같이 구할 수 있다.\n",
    "\n",
    "```\n",
    "math.atan2(y, x)\n",
    "```\n",
    " - math 모듈 설명: https://wikidocs.net/21116"
   ]
  },
  {
   "cell_type": "code",
   "execution_count": 1,
   "metadata": {},
   "outputs": [
    {
     "data": {
      "text/plain": [
       "56.309932474020215"
      ]
     },
     "execution_count": 1,
     "metadata": {},
     "output_type": "execute_result"
    }
   ],
   "source": [
    "import math\n",
    "rad = math.atan2(3,2) #라디안(높이, 밑변)\n",
    "th = math.degrees(rad) #도수법\n",
    "th"
   ]
  },
  {
   "cell_type": "markdown",
   "metadata": {},
   "source": [
    "각도를 구할 때 x축의 양의 방향을 0으로 정하고, 귀로 향한 벡터의 각도는 반시계 방향으로 0~180도, 아래로 향한 벡터의 값은 0~-180도 사이 값이 된다."
   ]
  },
  {
   "cell_type": "markdown",
   "metadata": {},
   "source": [
    "### 4.1.4 벡터의 크기\n",
    "\n",
    "벡터 크기는 피타고라스 정리로 구할 수 있다.  벡터의 크기는 $a=<a1,a2>$일 때  \n",
    "\n",
    "$$\n",
    "\\left| a \\right| =\\sqrt { { a }_{ 1 }^{ 2 }+{ a }_{ 2 }^{ 2 } } \n",
    "$$\n",
    "\n",
    "이다.예를 들어 $\\overrightarrow{OA}$는 x 성분이 2, y 성분이 3으로 \n",
    "\n",
    "$$\n",
    "\\left|\\overrightarrow{AB}\\right| = \\sqrt{2^2 + 3^2} \\\\\n",
    " = \\sqrt{13}\n",
    "$$\n",
    "\n",
    "> 벡터를 $|\\overrightarrow{OA}|$  같이 표현하면 **벡터의 크기**를 나타내고, 숫자 값이다. 벡터 처럼 양을 가지는 것과 구별해서 **스칼라**라고 말한다.\n",
    "\n"
   ]
  },
  {
   "cell_type": "markdown",
   "metadata": {},
   "source": [
    "예를 들어 $\\vec{a}=(-\\frac{2}{7}, \\frac{3}{7}, \\frac{6}{7})$ 크기는?\n",
    "\n",
    "크기를 피타고라스 정리로 계산해 보자."
   ]
  },
  {
   "cell_type": "code",
   "execution_count": 2,
   "metadata": {},
   "outputs": [
    {
     "data": {
      "text/plain": [
       "0.9999999999999999"
      ]
     },
     "execution_count": 2,
     "metadata": {},
     "output_type": "execute_result"
    }
   ],
   "source": [
    "import numpy as np\n",
    "\n",
    "# 식으로 계산\n",
    "a = np.array([-2/7,3/7,6/7])\n",
    "norm_a = np.sqrt(a[0]**2 + a[1]**2 + a[2]**2)\n",
    "norm_a"
   ]
  },
  {
   "cell_type": "markdown",
   "metadata": {},
   "source": [
    "NumPy에서 numpy.linalg.norm()으로 계산할 수 있다. "
   ]
  },
  {
   "cell_type": "code",
   "execution_count": 3,
   "metadata": {},
   "outputs": [
    {
     "data": {
      "text/plain": [
       "0.9999999999999999"
      ]
     },
     "execution_count": 3,
     "metadata": {},
     "output_type": "execute_result"
    }
   ],
   "source": [
    "import numpy.linalg as lin\n",
    "lin.norm(a)"
   ]
  },
  {
   "cell_type": "markdown",
   "metadata": {},
   "source": [
    "##### 단위 벡터\n",
    "\n",
    "**단위벡터**는 방향은 같고 크기가 1인 벡터를 나타내고 $\\vec{e}$ 로 표현한다.\n",
    "\n",
    "$$\n",
    "\\vec{e} = \\frac{\\overrightarrow{AB}}{\\left|\\overrightarrow{AB}\\right|}\n",
    "$$\n",
    "\n",
    "크기가 1이기만 하면 단위벡터이므로 모든 방향으로 단위벡터가 존재한다. "
   ]
  },
  {
   "cell_type": "markdown",
   "metadata": {},
   "source": [
    "---\n",
    "\n",
    "### 특수한 벡터\n"
   ]
  },
  {
   "cell_type": "markdown",
   "metadata": {},
   "source": [
    "#### 영 벡터\n",
    "\n",
    "모든 원소가 0인 N차원 벡터는\n",
    "\n",
    "$0_N = 0 = \\begin{bmatrix} 0 \\\\ 0 \\\\ \\vdots \\\\ 0\\end{bmatrix} $\n",
    "\n",
    "문맥에서 벡터의 크기를 알 수 있을 때는 크기를 나타내는 아래첨자를 생략할 수 있다."
   ]
  },
  {
   "cell_type": "code",
   "execution_count": 4,
   "metadata": {},
   "outputs": [
    {
     "data": {
      "text/plain": [
       "array([[0., 0., 0., 0.]])"
      ]
     },
     "execution_count": 4,
     "metadata": {},
     "output_type": "execute_result"
    }
   ],
   "source": [
    "# 영벡터\n",
    "np.zeros((1,4))"
   ]
  },
  {
   "cell_type": "markdown",
   "metadata": {},
   "source": [
    "#### 일 벡터\n",
    "\n",
    "모든 원소가 1인 N차원 벡터,\n",
    "\n",
    "$1_N = 1 = \\begin{bmatrix} 1 \\\\ 1 \\\\ \\vdots \\\\ 1\\end{bmatrix} $\n",
    "\n",
    "\n"
   ]
  },
  {
   "cell_type": "code",
   "execution_count": 5,
   "metadata": {},
   "outputs": [
    {
     "data": {
      "text/plain": [
       "array([[1., 1., 1., 1.]])"
      ]
     },
     "execution_count": 5,
     "metadata": {},
     "output_type": "execute_result"
    }
   ],
   "source": [
    "#일벡트\n",
    "np.ones((1,4))"
   ]
  },
  {
   "cell_type": "markdown",
   "metadata": {},
   "source": [
    "### 4.1.5 벡터의 연산\n",
    "\n",
    "현재 사람이 서있는 곳에서 어떤 캐릭터가 오른쪽으로 300m 가고, 그곳에서 위로 400m 갔고 이곳이 목적지이다. 현재 위치에서 목적지는?\n",
    "\n",
    "시작점 밑변 300, 높이 400 의 삼각형 모습이고 시작점에서 목적지 까지 벡터.\n",
    "\n",
    "벡터는 벡터끼리 덧셈, 뺄셈이 가능하고 실수배하면 방향을 바꾸지 않고 크기만을 바꿀 수 있다. 이와 같은 연산은 벡터의 성분끼리 수행된다.\n",
    "\n",
    "- 참조: https://mrw0119.tistory.com/10"
   ]
  },
  {
   "cell_type": "markdown",
   "metadata": {},
   "source": [
    "#### 덧셈\n",
    "\n",
    "벡터 $\\vec{a} + \\vec{b} = \\vec{c}$ 가 된다.\n",
    "\n",
    "<img src='https://mblogthumb-phinf.pstatic.net/20160115_148/forfriend5_1452858576774WOjtE_PNG/%C1%A6%B8%F1_%BE%F8%C0%BD6.png?type=w2' width='400'>\n",
    "\n",
    "벡터는 아래 그림같이 처럼 교환이 가능하다.  \n",
    "\n",
    "<img src='images/vector_plus.png' width='400'>\n",
    "\n",
    "이것은 $\\vec{a} + \\vec{b} = \\vec{b} +  \\vec{a}$"
   ]
  },
  {
   "cell_type": "markdown",
   "metadata": {},
   "source": [
    "덧셈을 벡터의 성분으로 나타내면\n",
    "\n",
    "$$\n",
    "\\vec{a} = { a_1 \\choose a_2 }, \\vec{b} = { b_1 \\choose b_2 } 일 때 \\\\\n",
    "\\vec{a} + \\vec{b} = { a_1 \\choose a_2 } + { b_1 \\choose b_2 } \\\\\n",
    " = { a_1 + b_1 \\choose a_2 + b_2 }\n",
    "$$"
   ]
  },
  {
   "cell_type": "markdown",
   "metadata": {},
   "source": [
    "#### 문) 점 P1(4,6,-2), P2(1,8,3) 사이 벡터 $\\overrightarrow{P1P2}$는?\n",
    "\n",
    "NumPy로 벡터 계산이 가능하다. numpy.array 배열을 사용한다."
   ]
  },
  {
   "cell_type": "code",
   "execution_count": 55,
   "metadata": {},
   "outputs": [
    {
     "data": {
      "text/plain": [
       "array([-3,  2,  5])"
      ]
     },
     "execution_count": 55,
     "metadata": {},
     "output_type": "execute_result"
    }
   ],
   "source": [
    "import numpy as np\n",
    "\n",
    "a = np.array([4,6,-2])\n",
    "b = np.array([1,8,3])\n",
    "\n",
    "b - a"
   ]
  },
  {
   "cell_type": "markdown",
   "metadata": {},
   "source": [
    "다음 같이 ${ a_1 \\choose a_2 }, { b_1 \\choose b_2 }$ 으로 치환해 계산해도 동일하다."
   ]
  },
  {
   "cell_type": "code",
   "execution_count": 56,
   "metadata": {},
   "outputs": [
    {
     "data": {
      "text/plain": [
       "array([[-3],\n",
       "       [ 2],\n",
       "       [ 5]])"
      ]
     },
     "execution_count": 56,
     "metadata": {},
     "output_type": "execute_result"
    }
   ],
   "source": [
    "a = np.array([4,6,-2]).reshape(3,1)\n",
    "b = np.array([1,8,3]).reshape(3,1)\n",
    "b-a"
   ]
  },
  {
   "cell_type": "markdown",
   "metadata": {},
   "source": [
    "#### 뺄셈\n",
    "\n",
    "벡터 $\\vec{b}$ 에 -부호를 붙여 $-\\vec{b}$ 크기는 같지만 방향이 반대인 벡터가 된다.\n",
    "\n",
    "그림은 벡터 $\\vec{a}$ 에 $\\vec{b}$를 뺀 것으로,  같이 $\\vec{a} - \\vec{b} = \\vec{c}$ 이다.\n",
    "\n",
    "이것은  $\\vec{a} +(-\\vec{b}) = \\vec{c}$ 같이 덧셈으로 쓸 수 있다. \n",
    "\n",
    "<img src='images/vector_minus.png' width='400'>"
   ]
  },
  {
   "cell_type": "markdown",
   "metadata": {},
   "source": [
    "벡터의 뺄셈을 성분으로 계산해 보면,\n",
    "\n",
    "\n",
    "$$\n",
    "\\vec{a} = { a_1 \\choose a_2 }, \\vec{b} = { b_1 \\choose b_2 } 일 때 \\\\\n",
    "\\vec{a} - \\vec{b} = { a_1 \\choose a_2 } - { b_1 \\choose b_2 } \\\\\n",
    " = { a_1 - b_1 \\choose a_2 - b_2 }\n",
    "$$"
   ]
  },
  {
   "cell_type": "markdown",
   "metadata": {},
   "source": [
    "#### 실수배\n",
    "\n",
    "벡터에 임의 실수 k 를 곱하면 방향은 바꾸지 않고 크기만 변경된다.\n",
    "\n",
    "<img src='images/vector_double.png' width='200'>\n",
    "\n",
    "$$\n",
    "\\vec{a} = { a_1 \\choose a_2 } 일 때 \\\\\n",
    "\\vec{b} = k\\vec{a} = {ka_1 \\choose ka_2}\n",
    "$$"
   ]
  },
  {
   "cell_type": "markdown",
   "metadata": {},
   "source": [
    "##### 파이썬 벡터 연산\n",
    "\n",
    "벡터 $\\vec{a}$ 성분 (2,2)이고 $\\vec{b}$ 성분은 (2,-1) 이다."
   ]
  },
  {
   "cell_type": "code",
   "execution_count": 57,
   "metadata": {},
   "outputs": [],
   "source": [
    "import numpy as np\n",
    "\n",
    "a = np.array([2,2])\n",
    "b = np.array([2,-1])"
   ]
  },
  {
   "cell_type": "code",
   "execution_count": 5,
   "metadata": {},
   "outputs": [
    {
     "data": {
      "text/plain": [
       "(array([4, 1]), array([0, 3]), array([4, 4]))"
      ]
     },
     "execution_count": 5,
     "metadata": {},
     "output_type": "execute_result"
    }
   ],
   "source": [
    "a + b, a - b, 2 * a"
   ]
  },
  {
   "cell_type": "markdown",
   "metadata": {},
   "source": [
    "### 4.1.6 벡터의 분해\n",
    "\n",
    "벡터 연산에서 두 벡터가 이루는 평행사변형의 대각선이 $\\vec{a} + \\vec{b}$ 가 된다. 이것은 벡터는 **두 벡터로 분해할 수 있다**로 해석이 된다.\n",
    "\n",
    "<img src='images/vector_disjoint.png' width='300'>\n",
    "\n",
    "- 참조: https://mrw0119.tistory.com/12?category=865489\n"
   ]
  },
  {
   "cell_type": "markdown",
   "metadata": {},
   "source": [
    "사람이 공을 던지면 궤도를 그리면 날아간다. 공을 *어떤 방향으로 얼만큼 힘을 주어 던졌는지* 알면 계산을 통해 이 궤도를 구할 수 있다. **어떤 방향으로 얼만큼의 힘** 은 벡터를 표현한다. 이것은 물리 세계에서 *초기속도*라고 한다.\n",
    "\n",
    "공의 궤적을 계산하려면 수평 방향의 속도와 수직 방향의 속도가 필요하다 \n",
    " - *공은 수평 방향으로 등속운동을 하고, 수직방향으로 등가속 운동을 한다*. \n",
    " - 이 수평, 수직 방향의 속도를 구하기 위해 벡터를 분해한다.\n",
    "\n",
    "초기 속도 $\\vec{v}$ 는 x, y 축으로 수선을 내린 모습으로 수평/수직 방향 벡터 $\\vec{a},\\vec{b}$ 같이 분해할 수 있다.\n",
    "\n",
    "<img src='images/vector_disjoint2.png' width='300'>\n",
    "\n",
    "그리고 등속도 운동과 등가속도 운동의 공식에 따라 시간당 공의 이동량을 계산하면 궤적을 시뮬레이션 할 수 있다."
   ]
  },
  {
   "cell_type": "markdown",
   "metadata": {},
   "source": [
    "---\n",
    "\n",
    "## 벡터의 방정식\n",
    "\n",
    "**도형을 벡터에 대한 식**으로 표현한 것을 벡터의 방정식이라 한다.\n",
    "\n",
    "### 4.2.1 직선을 나타내는 방법\n",
    "\n",
    "직선의 방정식은 두 점을 잇는 선을 그을 수 있다. 벡터의 개념을 도입하면 직선을 긋기 위해 필요한 것은 **직선의 방향**과 **직선상의 한 점** 이란 두 가지 이다.\n",
    "\n",
    "점 A를 지나며 $\\vec{v}$ 에 평행한 직선.\n",
    "\n",
    "<img src='images/vector_parallel_A.png' width='200'>\n"
   ]
  },
  {
   "cell_type": "markdown",
   "metadata": {},
   "source": [
    "이 직선에 한 점 P를 찍으면 $\\overrightarrow{AP}$ 는 $\\vec{v}$ 와 방향은 같고 크기가 다른 벡터이므로 $\\overrightarrow{AP} = k\\vec{v}$ 로 나타낼 수 있다. \n",
    "\n",
    "<img src='images/vector_A_P.png' width='200'>\n",
    "\n",
    "좌표 원점에서 점A, P를 가르키는 벡터를 a, p라 하면 아래 식이 성립하고 이것이 직선을 나타내는 **벡터 방정식**이다.\n",
    "\n",
    "$$\n",
    "\\vec{p} = \\vec{a} + k\\vec{v}\n",
    "$$\n",
    " - k는 임의 실수"
   ]
  },
  {
   "cell_type": "markdown",
   "metadata": {},
   "source": [
    "##### 예) \n",
    "\n",
    "벡터 방정식이 직선의 방정식을 나타내는지 직선의 방정식이 아닌 벡터 방정식에 값을 넣어 확인해 보자.\n",
    "\n",
    "점 A(-1,2), 목적지 점 P(2,4) 의 방향으로 벡터 $\\vec{v}$ 는 벡터의 A, P의 성분으로\n",
    "\n",
    "<img src='images/vector_ex_A_to_P.png' width='300'>\n",
    "\n",
    "직선의 방향 벡터v는 \n",
    "$$\n",
    "\\vec{v} = { 2-(-1) \\choose 4-2 } = (3,2)\n",
    "$$\n"
   ]
  },
  {
   "cell_type": "markdown",
   "metadata": {},
   "source": [
    "\n",
    "벡터 $\\vec{v}$ 와 점A로 향하는 벡터 $\\vec{a}$ 의 성분 (-1,2)를 벡터 방정식에 대입하면 점 P의 좌표 (x,y)는 \n",
    "\n",
    "$$\n",
    "{x \\choose y } = {-1 \\choose 2} + k{3 \\choose 2}\n",
    "$$\n",
    "\n",
    "위 식을 x, y에 대해 풀면 y = ax + b 형태의 식이 되므로 \n",
    "\n",
    "$$\n",
    "x = -1 + 3k \\quad\\longleftarrow 1\\\\\n",
    "y = 2 + 2k \\quad\\longleftarrow 2\n",
    "$$\n",
    "\n",
    "여기에 k를 소거하기 위해 위 두 식1의 양변에 2를 곱하고 식2의 양변에 3을 곱하면\n",
    "\n",
    "$$\n",
    "2x = -2 + 6k \\\\\n",
    "3y = 6 + 6k \\\\\n",
    "$$\n",
    "\n",
    "이제 식4에서 식5를 빼고 이를 y에 대해서 풀면 y=ax+b 형태의 직선의 방정식이 된다.\n",
    "\n",
    "$$\n",
    "2x - 3y = 8 \\\\\n",
    "\\\\\n",
    "\\therefore y = \\frac{2}{3}x + \\frac{8}{3}\n",
    "$$\n"
   ]
  },
  {
   "cell_type": "markdown",
   "metadata": {},
   "source": [
    "#### 두 점을 잇는 직선의 방정식\n",
    "\n",
    "앞의 그림의 좌표를 이용해 직선의 방정식을 구해보면\n",
    "\n",
    "(-1,2), (2,4)를 y=ax+b 에 대입해 보면\n",
    "\n",
    "$$\n",
    "-a + b = 2 \\quad \\cdots \\ (-1,2) \\\\\n",
    "2a + b = 4 \\quad \\cdots (2,4)\n",
    "$$\n",
    "\n",
    "a, b 에 대해서 풀면\n",
    "\n",
    "$$\n",
    "a = \\frac{2}{3},\\ b = \\frac{8}{3}\n",
    "$$\n"
   ]
  },
  {
   "cell_type": "markdown",
   "metadata": {},
   "source": [
    "sympy 로 풀기 위해서 ax + b + c = 0 형식으로 고쳐서 푼다."
   ]
  },
  {
   "cell_type": "code",
   "execution_count": 9,
   "metadata": {},
   "outputs": [
    {
     "data": {
      "text/plain": [
       "{a: 2/3, b: 8/3}"
      ]
     },
     "execution_count": 9,
     "metadata": {},
     "output_type": "execute_result"
    }
   ],
   "source": [
    "from sympy import Symbol, solve\n",
    "a, b = Symbol('a'), Symbol('b')\n",
    "\n",
    "ex1 = -1 * a + b - 2\n",
    "ex2 = 2 * a + b -4\n",
    "solve((ex1, ex2))"
   ]
  },
  {
   "cell_type": "markdown",
   "metadata": {},
   "source": [
    "### 두 직선의 교점\n",
    "\n",
    "3.3.3에서 두 직선의 식을 연립방정식으로 만들어 교점의 좌표를 구했다. 다음 같이 4 점을 연결한 선의 교점을 구해보자.\n",
    "\n",
    "<img src='images/vector_crosspoint_two_lines.png' width='200'>\n",
    "\n",
    "이 교점은 1) 두 직선의 방정식을 구한다. 2) 두 식을 연립방정식으로 푼다. 같이 해결이 가능하다. (3.3.3)\n",
    "\n",
    "여기서는 벡터 방정식을 사용해 보자,"
   ]
  },
  {
   "cell_type": "markdown",
   "metadata": {},
   "source": [
    "AB, CD 선의 교점 P를 벡터 방정식으로 나타내 보자,\n",
    "\n",
    "<img src='images/vector_crosspoint_two_lines2.png' width='300'>\n",
    "\n",
    "원점 O에서 점P에 대한 벡터 방정식은 아래 같다. 두 직선의 기울기가 다르므로 k, t 를 사용한다.\n",
    "\n",
    "$$\n",
    "\\overrightarrow{OP} = \\overrightarrow{OA} + k\\overrightarrow{AB} \\quad (k는 실수) \\\\\n",
    "\\overrightarrow{OP} = \\overrightarrow{OC} + t\\overrightarrow{CD} \\quad (t는 실수)\n",
    "$$"
   ]
  },
  {
   "cell_type": "markdown",
   "metadata": {},
   "source": [
    "이 두 식을 풀면 \n",
    "$$\n",
    "\\overrightarrow{OA} + k\\overrightarrow{AB} = \\overrightarrow{OC} + t\\overrightarrow{CD}\n",
    "$$\n",
    "\n"
   ]
  },
  {
   "cell_type": "markdown",
   "metadata": {},
   "source": [
    "위 식을 풀면 교점의 P 좌표를 알 수 있다. 예를 들어 A(2,7), B(6,1) 과 C(2,3), D(6,5) 일 때 위 식에 대입하면\n",
    "\n",
    "$$\n",
    "{ 2 \\choose 7 } + k{ 6-2 \\choose 1-7} = { 2 \\choose 3 } + t{ 6-2 \\choose 5-3 }\n",
    "$$\n",
    "\n",
    "이 식을 정리하면\n",
    "\n",
    "$$\n",
    "{ 2 + 4k \\choose 7 - 6k } = { 2 + 4t \\choose 3 + 2t }\n",
    "$$\n",
    "\n",
    "각 성분에 대해 식을 써서 정리하면 아래 같은 연립방정식이 된다.\n",
    "\n",
    "$$\n",
    "4k - 4t  = 0 \\\\\n",
    "-6k - 2t + 4 = 0\n",
    "$$\n",
    "\n",
    "이식을 풀어 k, t를 구하면"
   ]
  },
  {
   "cell_type": "code",
   "execution_count": 11,
   "metadata": {},
   "outputs": [
    {
     "data": {
      "text/plain": [
       "{k: 1/2, t: 1/2}"
      ]
     },
     "execution_count": 11,
     "metadata": {},
     "output_type": "execute_result"
    }
   ],
   "source": [
    "from sympy import Symbol, solve\n",
    "\n",
    "k = Symbol('k')\n",
    "t = Symbol('t')\n",
    "\n",
    "ex1 = 4*k - 4*t\n",
    "ex2 = -6*k - 2*t + 4\n",
    "solve((ex1, ex2))"
   ]
  },
  {
   "cell_type": "markdown",
   "metadata": {},
   "source": [
    "이 값을 $\\overrightarrow{OA} + k\\overrightarrow{AB}$ 식에 대입하면 점 P의 좌표는 (4,4)이다.\n",
    "\n",
    "$$\n",
    "{ 2 \\choose 7 } + \\frac{1}{2} { 6-2 \\choose 1-7} = { 2 + 2 \\choose 7 - 3 } = { 4 \\choose 4 }\n",
    "$$"
   ]
  },
  {
   "cell_type": "markdown",
   "metadata": {},
   "source": [
    "### 4.2.3 벡터를 사용하는 이유\n",
    "\n",
    "앞의 교점을 구할 때 연립방정식을 푸는 것은 - 주어진 좌표를 가지고 직선의 식을 만들고 그 식들로 연립방정식을 만들어 해를 구하는게 직관적이고 이해가 쉽다. 그러나 이것은 x, y축의 평면좌표에서 일어나는 일이다. 만약 z축 같은 삼차원 좌표에서는 미지수가 한개 더 늘어나서 $ax+by+cz+d=0$ 라는 식이 된다. 계산 복잡도가 늘어난다.\n",
    "\n",
    "그러나 벡터에서는 아래 같이 성분을 하나 추가하면 된다.\n",
    "\n",
    "$$\n",
    "\\vec{v} = \\begin{pmatrix} x \\\\ y \\\\ z \\end{pmatrix}\n",
    "$$\n"
   ]
  },
  {
   "cell_type": "markdown",
   "metadata": {},
   "source": [
    "그래서 공간에서 벡터 방정식은 아래 같이 나타낼 수 있다.\n",
    "\n",
    "$$\n",
    "\\vec{p} = \\vec{a} + k\\vec{v} \\quad (k는 임의 실수)\n",
    "$$\n",
    "\n",
    "앞의 벡터 방정식과 같다. 이차원, 삼차원 이든 같은 계산법으로 풀 수 있다. 이것이 벡터를 사용하는 가장 큰 이유이다."
   ]
  },
  {
   "cell_type": "markdown",
   "metadata": {},
   "source": [
    "#### 공간도형과 벡터\n",
    "\n",
    "아래 그림은 오른쪽 좌표계로 x축은 오른쪽이 양의 방향이고, y축은 위쪽이 양의 방향이다. 뒤에서 앞으로 z축을 포함해 3차원 공간을 나타낸다.\n",
    "\n",
    "<img src='images/coord_left_right_hand.png' width='300'> <img src='images/coord_left_right_P.png' width='300'>"
   ]
  },
  {
   "cell_type": "markdown",
   "metadata": {},
   "source": [
    "좌표계에서 x,y,z 좌표를 추가해 표현한다.\n",
    "\n",
    "$$\n",
    "\\overrightarrow{OP} = (3,4,2) \\quad \\overrightarrow{OP}=\\begin{pmatrix} 3 \\\\ 4 \\\\ 2 \\end{pmatrix}\n",
    "$$"
   ]
  },
  {
   "cell_type": "markdown",
   "metadata": {},
   "source": [
    "3개의 벡터는 아래 같이 z성분을 추가해 계산한다.\n",
    "\n",
    "$$\n",
    "\\vec{a}=\\begin{pmatrix} a_1 \\\\ a_2 \\\\ a_3 \\end{pmatrix}, \\quad \\vec{b}=\\begin{pmatrix} b_1 \\\\ b_2 \\\\ b_3 \\end{pmatrix} 일 때\\\\\n",
    "\\\\\n",
    "\\vec{a}+\\vec{b} = \\begin{pmatrix} a_1 \\\\ a_2 \\\\ a_3 \\end{pmatrix} + \\begin{pmatrix} b_1 \\\\ b_2 \\\\ b_3 \\end{pmatrix} = \\begin{pmatrix} a_1+b_1 \\\\ a_2+b_2 \\\\ a_3+b_3 \\end{pmatrix}\n",
    "$$\n",
    "\n",
    "그리고 $\\vec{v}=(x,y,z)$일 때 $\\vec{v}$의 크기는 아래 같이 구할 수 있다.\n",
    "\n",
    "$$\n",
    "\\left| \\vec{v} \\right| = \\sqrt{x^2+y^2+z^2}\n",
    "$$\n"
   ]
  },
  {
   "cell_type": "markdown",
   "metadata": {},
   "source": [
    "---\n",
    "\n",
    "## 벡터의 내적\n",
    "\n",
    "벡터는 방향과 크기를 화살표로 표현해 도형으로 다룰수 있다는 장점이 있다(기하벡터). 성분으로 표기할 때는 수식으로 다룰 수 있는 특징이 있다.\n",
    "\n",
    "여기서 벡터가 CG, Game 등에서 어떻게 다뤄지는지 확인해 본다.\n",
    "\n"
   ]
  },
  {
   "cell_type": "markdown",
   "metadata": {},
   "source": [
    "### 4.3.1 기여도 계산하기\n",
    "\n",
    "아래 그림 처럼 서로 다른 방향으로 물건을 끄는 상황에서, 영희가 A방향으로 10 만큼의 힘으로 상자를 끌고 있고, 철수가 B방향으로 10만큼 힘으로 끌고 간다. 만약 철수가 A방향으로 끌고 가면 철수는 영희에게 100% 기여하게 된다.\n",
    "\n",
    "<img src='images/vector_chulsoo_younghee.png' width='300'>\n",
    "\n",
    "철수 벡터에서 영희쪽으로 수선을 내리면 직각삼각형이 만들어진다. 이 삼각형 밑변F 이 영희가 끌고 있는 방향에 대한 철수의 기여도가 된다.\n",
    "\n",
    "<img src='images/vector_chulsoo_younghee2.png' width='200'>\n",
    "\n",
    "철수 벡터가 영희쪽으로 가까울 수록 직각삼각형 밑변은 길어진다 - 더 많은 기여를 한다. 반대로 멀어지면 짭아지며 기여가 낮은 것이다."
   ]
  },
  {
   "cell_type": "markdown",
   "metadata": {},
   "source": []
  },
  {
   "cell_type": "markdown",
   "metadata": {},
   "source": [
    "이런 변화를 알아보기 위해서 반지름 1인 단위원을 그려보자. x축을 영희 방향, y축의 철수 방향에서 길이가 1인 x방향의 수선을 내리면 직각삼각형과 닮은 삼각형이 원에 생긴다.\n",
    "\n",
    "<img src='images/vector_chulsoo_younghee3.png' width='400'>\n",
    "\n",
    "이 직각삼각형의 빗변과 밑변의 비율은 $1:cos\\theta$ 로 표현되므로, 철수 방향의 벡터 $\\vec{a}$ 라고 하면 아래 비례식이 성립한다.\n",
    "\n",
    "$$\n",
    "\\left|\\vec{a}\\right| : F = 1 : cos\\theta\n",
    "$$\n",
    "\n",
    "이 비례식을 밑변 F 중심으로 변형하면\n",
    "\n",
    "$$\n",
    "F =  \\left|\\vec{a}\\right| cos\\theta\n",
    "$$\n",
    "\n",
    "\n"
   ]
  },
  {
   "cell_type": "markdown",
   "metadata": {},
   "source": [
    "#### 예)\n",
    "\n",
    "길동과 서희의 벡터가 이루는 각도가 60도이고 길동이 끄는 힘이 10이라면 길동의 기여도는"
   ]
  },
  {
   "cell_type": "code",
   "execution_count": 12,
   "metadata": {},
   "outputs": [
    {
     "data": {
      "text/plain": [
       "5.000000000000001"
      ]
     },
     "execution_count": 12,
     "metadata": {},
     "output_type": "execute_result"
    }
   ],
   "source": [
    "import math\n",
    "\n",
    "10 * math.cos(math.radians(60))"
   ]
  },
  {
   "cell_type": "markdown",
   "metadata": {},
   "source": [
    "### 4.3.2 일의 양 계산하기\n",
    "\n",
    "그림 처럼 10의 힘으로 3m를 움직이면 물리 세계에서 *크기x이동거리* 로 10x3=30 만큼 일을 한다고 한다. 이때 힘을 준 방향과 움직인 거리는 같아야 한다.\n",
    "\n",
    "<img src='images/vector_pulling.png' width='550'>\n",
    "\n",
    "그럼 캐리어와 같이 바퀴 달린 물건을 비스듬히 10만큼 힘으로 끌게 되면 수평 방향으로 일정하기 100% 힘이 작용하지 않는다. 이것은 앞의 4.3.1의 기여도 같은 계산으로 작용한 힘은 $10\\times cos60 = 5$ 같다. 즉 10의 힘이지만 5만큼 기여해서 5x3=15 만큼 일을 한것이 된다."
   ]
  },
  {
   "cell_type": "markdown",
   "metadata": {},
   "source": [
    "### 4.3.3 벡터의 내적\n",
    "\n",
    "앞의 4.3.2 일의 양 계산하기에서 \"힘의 크기x이동 거리\" 로 일의 양을 계산한 것은 수학 세계에서 **벡터의 내적** 이라고 말한다.\n",
    "\n",
    "**.** 을 사용해서 아래 같이 표현한다.\n",
    "\n",
    "$$\n",
    "\\vec{a} \\cdot \\vec{b} = \\left|\\vec{a}\\right| \\left|\\vec{b}\\right| cos\\theta \\quad \\longleftarrow 식2\n",
    "$$\n",
    "\n",
    "위 식은 아래 그림같이 $|\\vec{a}|cos\\theta$ 에서 $\\vec{a}$의 방향으로 끌었을 때 수평 방향으로 작용하는 힘(F)이고 $\\vec{b}$는 해당 방향으로 움직인 거리이다.\n",
    "\n",
    "<img src='images/vector_amount_power_move.png' width='200'>\n"
   ]
  },
  {
   "cell_type": "markdown",
   "metadata": {},
   "source": [
    "\n",
    "#### 벡터의 곱\n",
    "\n",
    "두 벡터의 곱셈은 여러 방법이 있지만 여기서 **내적(inner product)**만을 다룬다. 벡터 x와 y의 내적은 다음 처럼 표시한다.\n",
    "\n",
    "$$ x^Ty$$\n",
    "\n",
    "내적은 점(dot)로 표기하는 경우도 있어 닷 프러덕트(dot product)라고도 한다. $<x, y>$ 기호로 나타낼 수 도 있다.\n",
    "\n",
    "$$ x\\cdot y = <x, y> = x^Ty$$\n",
    "\n",
    "\n"
   ]
  },
  {
   "cell_type": "markdown",
   "metadata": {},
   "source": [
    "두 벡터를 내적하려면 다음과 같은 조건이 만족해야 한다.\n",
    "  - 우선 두 벡터의 길이가 같아야 한다.\n",
    "  - 앞의 벡터가 **행 벡터**이고 뒤의 벡터가 **열 벡터**야 한다.\n",
    " - 행렬 곱 A*B에 대해 A의 열의 수와 B의 행의 수가 같아야 한다.\n",
    " - 결국 A행과 B열의 개수를 가진다.\n",
    " - 단, 교환법칙은 성립하지 않는다.\n",
    "\n",
    " \n",
    "벡터 내적에 대해 [벡터의 분해](http://mrw0119.tistory.com/12) 에서 내적에 대한 풀이를 볼 수 있다."
   ]
  },
  {
   "cell_type": "markdown",
   "metadata": {},
   "source": [
    "벡터의 성분을 알고 있다면 아래 같이 계산할 수 있다.\n",
    "\n",
    "$$\n",
    "\\vec{a} = {a_1 \\choose a_2}, \\quad \\vec{b} = {b_1 \\choose }\\\\\n",
    "\\\\\n",
    "\\vec{a}\\cdot\\vec{b} = a_1b_1 + a_2b_2 \\quad \\longleftarrow 식3\n",
    "$$\n",
    "\n",
    "내적의 계산은 위 *식2* 와 *식2* 를 이용해 계산한다. 벡터의 내적으로 얻을 수 있는 것으:\n",
    "\n",
    "1. **내적을 계산한 결과는 벡터의 형태가 아니고 스칼라 형태**\n",
    "2. **두 벡터가 이루는 각도를 구할 수 있다**(cos 값)\n",
    "3. **내적을 계산한 결과를 보면 두 벡터의 위치 관계를 알 수 있다**"
   ]
  },
  {
   "cell_type": "markdown",
   "metadata": {},
   "source": [
    "### 4.3.4 두 직선을 이루는 각도\n",
    "\n",
    "내적을 계산하는 두 식은 같으므로 다음이 성립한다.\n",
    "\n",
    "$$\n",
    "\\left| \\vec{a} \\right| \\left| \\vec{b} \\right| cos \\theta = a_1b_1 + a_2b_2\n",
    "$$\n",
    "\n",
    "이 식을 정리하면 다음 같이 벡터의 내적을 이용해 **두 벡터가 이루는 각도를 구할 수 있다**\n",
    "\n",
    "$$\n",
    "cos\\theta = \\frac{ a_1b_1 + a_2b_2}{\\left| \\vec{a} \\right| \\left| \\vec{b} \\right|} \\quad \\longleftarrow 식4\n",
    "$$"
   ]
  },
  {
   "cell_type": "markdown",
   "metadata": {},
   "source": [
    "점A-B, 점C-D 를 연결한 교차점 세타를 벡터의 내적을 이용해 구해보자.\n",
    "\n",
    "<img src='images/vector_innerproduct_ABCD.png' width='300'>\n",
    "\n",
    "A-B의 벡터를 $\\vec{a}$, C-D의 벡터를 $\\vec{b}$ 를 성분으로 나타내면\n",
    "\n",
    "$$\n",
    "\\vec{a}={x_2 - x_1 \\choose y_2 - y_1 }, \\quad \\vec{b}={x_4 - x_3 \\choose y_4 - y_3 }\n",
    "$$\n",
    "\n",
    "벡터의 크기를 피타고라스 정리를 이용해 구한다.\n",
    "\n",
    "$$\n",
    "|\\vec{a}| = \\sqrt{(x_2-x_1)^2 + (y_2-y_1)^2}\\\\\n",
    "|\\vec{b}| = \\sqrt{(x_4-x_3)^2 + (y_4-y_3)^2}\n",
    "$$\n",
    "\n",
    "이 두 식을 식4에 대입하면 두 벡터가 이루는 각을 얻을 수 있다.\n",
    "\n",
    "$$\n",
    "cos\\theta = \\frac{ x_1y_1 + x_2y_2 + x_3y_3 + x_4y_4}{\\sqrt{(x_2-x_1)^2 + (y_2-y_1)^2}\n",
    "\\sqrt{(x_4-x_3)^2 + (y_4-y_3)^2}} \\quad \\longleftarrow 식4-1\n",
    "$$"
   ]
  },
  {
   "cell_type": "markdown",
   "metadata": {},
   "source": [
    "##### 문) 내적의 공식을 이용해 두 직선이 이루는 각을 구해보자,\n",
    "\n",
    "아래 그림의 두 직선이 교차하는 곳의 내적을 공식을 이용해 계산해 보자,\n",
    "\n",
    "<img src='images/vector_innerproduct_ex_ABCD.png' width='300'>\n",
    "\n"
   ]
  },
  {
   "cell_type": "code",
   "execution_count": 2,
   "metadata": {},
   "outputs": [
    {
     "name": "stdout",
     "output_type": "stream",
     "text": [
      "82.8749836510982\n"
     ]
    }
   ],
   "source": [
    "import math\n",
    "import numpy as np\n",
    "\n",
    "# 좌표\n",
    "a = np.array([2,7])\n",
    "b = np.array([6,1])\n",
    "c = np.array([2,3])\n",
    "d = np.array([6,5])\n",
    "\n",
    "# 벡터 a와 b의 성분\n",
    "va = b - a\n",
    "vb = d - c\n",
    "\n",
    "# 벡터의 크기\n",
    "norm_a = np.linalg.norm(va)\n",
    "norm_b = np.linalg.norm(vb)\n",
    "\n",
    "# 벡터의 내적\n",
    "dot_ab = np.dot(va, vb)\n",
    "\n",
    "# 교점 각 구하기\n",
    "cos_th = dot_ab / (norm_a * norm_b)\n",
    "rad = math.acos(cos_th)\n",
    "deg = math.degrees(rad)\n",
    "print(deg)"
   ]
  },
  {
   "cell_type": "markdown",
   "metadata": {},
   "source": [
    "벡터 내적의 결과가 cos 이라서 각도로 변환하려면 acos 을 사용해야 한다. 그리고 acos 결과는 호도법으로 도수법으로 변환해서 사용한다."
   ]
  },
  {
   "cell_type": "markdown",
   "metadata": {},
   "source": [
    "### 4.3.5 내적의 성질\n",
    "\n",
    "크기가 1인 단위 벡터로 내적을 계산하면 $cos\\theta$ 값은 -1~1 범위이다.\n",
    "\n",
    "내적을 계산한 결과가 양수일 때는 \n",
    " - 두 벡터가 이루는 각도가 예각(90이하)입니다.\n",
    " - 0일 때는 직각\n",
    "\n",
    "음수 일 때는\n",
    " - 둔각(90보다 큼) 이다.\n",
    "\n",
    "보통 이 성질은 삼차원 그래픽스, 게임에서 캐릭터를 랜더링 할지 여부를 판단할 때 사용.\n",
    "\n",
    "<img src='images/vector_innerproduct_view.png' width='300'>"
   ]
  },
  {
   "cell_type": "markdown",
   "metadata": {},
   "source": [
    "위 그림 같이 시점 방향의 벡터 $\\vec{a}$ 라 하고 캐릭터 몸체의 가각 면과 수직인 벡터 $\\vec{b}$ 라 해서 내적을 계산하면 $\\vec{a}\\cdot\\vec{b} < 0$ 이면 시선과 해당 면이 서로 마주 보고 있어서 해당 면을 랜더링해야 한다. 그리고 $\\vec{a}\\cdot\\vec{b} > 0$  이면 시점과 해당면이 같은 방향을 향하고 있으므로 랜더링하지 않아도 된다. 이렇게 계산을 하면 위 그림에서 굵게 표시된 면만 랜더링해도 된다. \n",
    "\n",
    "이처럼 그래픽스, 게임 등에서 랜더링 판단에도 사용할 수 있다."
   ]
  },
  {
   "cell_type": "markdown",
   "metadata": {},
   "source": [
    "#### 코사인 유사도\n",
    "\n",
    "내적을 계산한 결과에 따라 두 벡터가 닮았는지 판단하는 수법이 **코사인 유사도**이다. \n",
    "\n",
    "- http://euriion.com/?p=548\n",
    "\n",
    "이것은 아래 같은 데이터에도 적용된다. 아래 표는 다섯 단어로 만든 문장과 특정 단어가 문장에 나타나는 빈도를 정리했다.\n",
    "\n",
    "_ | 문장 | 파란 | 하얀 | 하늘 | 구름 | 파도\n",
    "- | ------ | -- | -- | -- | -- | --\n",
    "문장1 | 파란 하늘과 파란 파도 | 2 | 0 | 1 | 0 | 1\n",
    "문장2 | 파란 하늘과 하얀 파도 | 1 | 1 | 1 | 0 | 1\n",
    "문장3 | 하얀 구름과 파란 하늘 | 1 | 1 | 1 | 1 | 0\n",
    "\n"
   ]
  },
  {
   "cell_type": "markdown",
   "metadata": {},
   "source": [
    "$$\n",
    "cos\\theta = \\frac{ a_1b_1 + a_2b_2}{\\left| \\vec{a} \\right| \\left| \\vec{b} \\right|} \\quad \\longleftarrow 식4 \\\\\\\\\n",
    "|\\vec{a}| = \\sqrt{(a_2-a_1)^2 + (b_2-b_1)^2}\\\\\n",
    "|\\vec{b}| = \\sqrt{(a_4-a_3)^2 + (a_4-a_3)^2}\n",
    "$$"
   ]
  },
  {
   "cell_type": "code",
   "execution_count": 32,
   "metadata": {},
   "outputs": [],
   "source": [
    "a = np.array([2,0,1,0,1])\n",
    "b = np.array([1,1,1,0,1])\n",
    "c = np.array([1,1,1,1,0])"
   ]
  },
  {
   "cell_type": "markdown",
   "metadata": {},
   "source": [
    "##### 문)  예를 들어 세개의 문서가 있고 각 문서는 a, b, c, d라는 단어로만 구성되어 있다고 합시다.\n",
    "\n",
    "- 1번 문서는 a가 3번 b가 2번 c가 0번 d가 2번 출현했다고 하고\n",
    "- 2번 문서는 a가 1번 b가 2번 c가 3번 d가 0번 출현했다고 하고\n",
    "- 3번 문서는 a가 2번 b가 2번 c가 2번 d가 2번 출현했다고 하면\n",
    "\n",
    "각 단어의 출현빈도를 속성으로 갖는 문서 D1을 정의하면 다음과 같이 정의할 수 있습니다.\n",
    " \n",
    "```\n",
    "D1 = { 3, 2, 0, 2 }\n",
    "D2 = { 1, 2, 3, 0 }\n",
    "D3 = { 2, 2, 2, 2 }\n",
    "```\n",
    " \n",
    "질의: \"a가 1번 b 5번 나온 문서와 가장 가까운(유사한) 문서는?\" 다음과 같이 표현하여 벡터 내적을 적용하면 될 것 같네요.\n",
    " \n",
    "Q = {1, 5, 0 , 0}"
   ]
  },
  {
   "cell_type": "markdown",
   "metadata": {},
   "source": [
    "\n",
    "##### 풀이1) \n",
    "\n",
    "첫번째 방법은 벡터 Q와 다른 문서 벡터와의 사잇각 θ를 이용하기 위해 cosθ 값을 구해서 비교하는 것입니다.\n",
    "\n",
    "\n",
    "$$\n",
    "cos\\theta = \\frac{ a_1b_1 + a_2b_2}{\\left| \\vec{a} \\right| \\left| \\vec{b} \\right|} \\quad \\longleftarrow 식4 \\\\\\\\\n",
    "|\\vec{a}| = \\sqrt{(a_2-a_1)^2 + (b_2-b_1)^2}\\\\\n",
    "|\\vec{b}| = \\sqrt{(a_4-a_3)^2 + (a_4-a_3)^2}\n",
    "$$"
   ]
  },
  {
   "cell_type": "code",
   "execution_count": 43,
   "metadata": {},
   "outputs": [
    {
     "data": {
      "text/plain": [
       "(0.6183469424008424, 0.5765566601970551, 0.5883484054145521)"
      ]
     },
     "execution_count": 43,
     "metadata": {},
     "output_type": "execute_result"
    }
   ],
   "source": [
    "cos_qd1 = ((1*3)+(5*2))/(math.sqrt(1+5**2)*math.sqrt(3**2+2**2+2**2))\n",
    "cos_qd2 = ((1*1)+(5*2))/(math.sqrt(1+5**2)*math.sqrt(1+2**2+3**2))\n",
    "cos_qd3 = ((1*2)+(5*2))/(math.sqrt(1+5**2)*math.sqrt(2**2+2**2+2**2+2**2))\n",
    "\n",
    "\n",
    "cos_qd1,cos_qd2,cos_qd3"
   ]
  },
  {
   "cell_type": "markdown",
   "metadata": {},
   "source": [
    "계산으로 Q 와 각 문서 벡터 사이 가장 좁은 각은 D1 으로 이것이 질의와 가장 비슷한 것이다."
   ]
  },
  {
   "cell_type": "markdown",
   "metadata": {},
   "source": [
    "---\n",
    "\n",
    "## 4.4 벡터의 외적\n",
    "\n",
    "1. 외적은 두 벡터에 수직인 벡터가 된다\n",
    "2. 그 벡터의 크기는 두 벡터가 이루는 평행사변형의 면적과 같다\n",
    "\n",
    "### 4.4.1 법선벡터\n",
    "\n",
    "벡터의 외적을 계산하는 것은 벡터의 성분을 x 를 사용해 아래 같이 계산한다.\n",
    "\n",
    "$$\n",
    "\\vec{a} = \\begin{pmatrix} a_1 \\\\ a_2 \\\\ a_3 \\end{pmatrix},\\quad \\begin{pmatrix} b_1 \\\\ b_2 \\\\ b_3 \\end{pmatrix} \\\\\n",
    "\\\\\n",
    "\\vec{a} \\times \\vec{b} = \n",
    "\\begin{pmatrix} a_2b_3 - a_3b_2\\\\\n",
    "                a_3b_1 - a_1b_3\\\\\n",
    "                a_1b_2 - a_2b_1 \\end{pmatrix}\n",
    "$$\n",
    "\n",
    "이것은 *외적을 계산한 결과는 벡터가된다* 는 점에 주목해야 하고 삼차원 공간에 존재하는 벡터이다."
   ]
  },
  {
   "cell_type": "markdown",
   "metadata": {},
   "source": [
    "외적에서 중요한 것은 **외적을 계산한 결과로 나오는 벡터는 두 벡터에 수직인 벡터가 된다**이다. 그리고 **오른속 나사의 법칙**을 따른다. 즉 벡터a에서 벡터b로 오른쪽으로 나사를 돌렸을 때 나사가 진행하는 방향 의미.\n",
    "\n",
    "<img src='images/vector_outerproduct_dir.JPG' width='300'>\n",
    "\n",
    "a,b 벡터가 이루는 평행사변형을 평면이라고 생각하면 외적은 계산한 결과로 나온 벡터는 이 면에 수직인 벡터가 된다. 이 벡터를 **법선벡터**라고 한다.\n",
    "\n",
    "법선벡터는 해당 면이 향하고 있는 방향을 나타내는 값으로 삼차원 그래픽스, 게임의 등에서 물체에 닿는 빛의 각도를 법선벡터 값을 이용해 계산하고 그림자를 표현한다.\n",
    "\n",
    "<img src='https://image.slidesharecdn.com/normalmapping-170906015645/95/normal-mapping-12-638.jpg?cb=1504663052' width='200'>"
   ]
  },
  {
   "cell_type": "markdown",
   "metadata": {},
   "source": [
    "파이썬에서 NumPy의 cross() 함수로 외적을 구할 수 있다.\n",
    "\n",
    "```\n",
    "numpy.cross(a, b, axisa=-1, axisb=-1, axisc=-1, axis=None)\n",
    " - cross product of a, b\n",
    "```\n",
    "\n",
    " - https://numpy.org/doc/1.18/reference/generated/numpy.cross.html\n",
    " "
   ]
  },
  {
   "cell_type": "code",
   "execution_count": 45,
   "metadata": {},
   "outputs": [
    {
     "data": {
      "text/plain": [
       "array([ 0,  4, -2])"
      ]
     },
     "execution_count": 45,
     "metadata": {},
     "output_type": "execute_result"
    }
   ],
   "source": [
    "import numpy as np\n",
    "\n",
    "a = np.array([0,1,2])\n",
    "b = np.array([2,0,0])\n",
    "np.cross(a,b)"
   ]
  },
  {
   "cell_type": "markdown",
   "metadata": {},
   "source": [
    "### 4.4.2 면적 구하기\n",
    "\n",
    "벡터의 외적의 결과로 나온 벡터는 **두 벡터가 이루는 평행사변형의 면적과 같다**이다.\n",
    "\n",
    "$$\n",
    "\\left| \\vec{a}\\times \\vec{b}\\right| = \\left|\\vec{a}\\right|\\left|\\vec{b}\\right|sin\\theta \\quad \\longleftarrow 식5\n",
    "$$\n",
    "\n",
    "\n",
    "<img src='images/vector_two_vector_parallelogram.png' width='300'>\n",
    "\n",
    "이 계산식은 벡터a 끝에서 벡터b로 수선을 내리면 수선의 길이 h를 삼각비를 이용해 아래 같이 나타낼 수 있다. h는 평행사변형의 높이이다. 평행사변형 밑변은 벡터b이고 크기/길이는 $|\\vec{b}|$ 이다. \n",
    "\n",
    "$$\n",
    "sin\\theta = \\frac{h}{|\\vec{a}|} \\\\\n",
    "h = |\\vec{a}| sin\\theta\n",
    "$$"
   ]
  },
  {
   "cell_type": "markdown",
   "metadata": {},
   "source": [
    "평행사변형 면적은 *밑변X높이* 이므로 $|\\vec{a}||\\vec{b}| sin\\theta$ 가 되어 위 식5의 우변과 같아진다."
   ]
  },
  {
   "cell_type": "markdown",
   "metadata": {},
   "source": [
    "##### 문)\n",
    "\n",
    "그림에서 두 벡터의 끝점을 이어 만든 삼각형(색칠한 부분)의 면적을 구해보자,\n",
    "\n",
    "<img src='images/vector_ex_parallelogram.png' width='300'>\n",
    "\n",
    "구하는 순서:\n",
    "1. 두 벡터의 크기를 구한다\n",
    "2. 벡터의 내적을 이용해 두 벡터가 이루는 각도를 구한다.\n",
    "3. 외적 공식 $|\\vec{a}||\\vec{b}| sin\\theta$  이용해 평행사변형 면적을 구한다."
   ]
  },
  {
   "cell_type": "markdown",
   "metadata": {},
   "source": [
    "NumPy를 이용해 벡터의 외적은 cross()를 이용하고, 벡터의 크기는 norm() 을 사용한다."
   ]
  },
  {
   "cell_type": "code",
   "execution_count": 48,
   "metadata": {},
   "outputs": [
    {
     "data": {
      "text/plain": [
       "5.0"
      ]
     },
     "execution_count": 48,
     "metadata": {},
     "output_type": "execute_result"
    }
   ],
   "source": [
    "a = np.array([2,4])\n",
    "b = np.array([3,1])\n",
    "#외적\n",
    "cross_ab = np.cross(a,b)\n",
    "#벡터 크기\n",
    "s_ab = np.linalg.norm(cross_ab) # 외적의 크기\n",
    "#삼각형 크기\n",
    "s_ab / 2"
   ]
  },
  {
   "cell_type": "markdown",
   "metadata": {},
   "source": [
    "---"
   ]
  },
  {
   "cell_type": "markdown",
   "metadata": {},
   "source": [
    "# 참고\n",
    "\n",
    "- [김대수의 수학 어드벤쳐] 벡터 개념, 르네상스 이후 등장 … 현수교 설계 때 필수\n",
    "  - https://news.joins.com/article/18169742"
   ]
  }
 ],
 "metadata": {
  "kernelspec": {
   "display_name": "Python 3",
   "language": "python",
   "name": "python3"
  },
  "language_info": {
   "codemirror_mode": {
    "name": "ipython",
    "version": 3
   },
   "file_extension": ".py",
   "mimetype": "text/x-python",
   "name": "python",
   "nbconvert_exporter": "python",
   "pygments_lexer": "ipython3",
   "version": "3.8.5"
  }
 },
 "nbformat": 4,
 "nbformat_minor": 4
}
